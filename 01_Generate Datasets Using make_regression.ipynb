{
 "cells": [
  {
   "cell_type": "code",
   "execution_count": 6,
   "metadata": {},
   "outputs": [],
   "source": [
    "from sklearn.datasets import make_regression\n",
    "import matplotlib.pyplot as plt\n",
    "import pandas as pd\n",
    "import numpy as np\n",
    "import seaborn as sns"
   ]
  },
  {
   "cell_type": "code",
   "execution_count": 7,
   "metadata": {},
   "outputs": [],
   "source": [
    "X,y =make_regression(\n",
    "    n_samples=1000,\n",
    "    n_features=5,\n",
    "    n_informative=3,\n",
    "    random_state=0\n",
    ")"
   ]
  },
  {
   "cell_type": "code",
   "execution_count": 8,
   "metadata": {},
   "outputs": [],
   "source": [
    "df=pd.DataFrame(X,columns=['x1','x2','x3','x4','x5'])\n",
    "df['y'] = y"
   ]
  },
  {
   "cell_type": "code",
   "execution_count": 9,
   "metadata": {},
   "outputs": [
    {
     "data": {
      "text/html": [
       "<div>\n",
       "<style scoped>\n",
       "    .dataframe tbody tr th:only-of-type {\n",
       "        vertical-align: middle;\n",
       "    }\n",
       "\n",
       "    .dataframe tbody tr th {\n",
       "        vertical-align: top;\n",
       "    }\n",
       "\n",
       "    .dataframe thead th {\n",
       "        text-align: right;\n",
       "    }\n",
       "</style>\n",
       "<table border=\"1\" class=\"dataframe\">\n",
       "  <thead>\n",
       "    <tr style=\"text-align: right;\">\n",
       "      <th></th>\n",
       "      <th>x1</th>\n",
       "      <th>x2</th>\n",
       "      <th>x3</th>\n",
       "      <th>x4</th>\n",
       "      <th>x5</th>\n",
       "      <th>y</th>\n",
       "    </tr>\n",
       "  </thead>\n",
       "  <tbody>\n",
       "    <tr>\n",
       "      <th>660</th>\n",
       "      <td>0.617661</td>\n",
       "      <td>0.463873</td>\n",
       "      <td>0.891968</td>\n",
       "      <td>-0.438356</td>\n",
       "      <td>-0.743152</td>\n",
       "      <td>-17.361679</td>\n",
       "    </tr>\n",
       "    <tr>\n",
       "      <th>228</th>\n",
       "      <td>0.758038</td>\n",
       "      <td>-1.343193</td>\n",
       "      <td>-0.630226</td>\n",
       "      <td>-0.368415</td>\n",
       "      <td>-0.368764</td>\n",
       "      <td>-54.439024</td>\n",
       "    </tr>\n",
       "    <tr>\n",
       "      <th>733</th>\n",
       "      <td>-0.159573</td>\n",
       "      <td>0.693773</td>\n",
       "      <td>-1.346718</td>\n",
       "      <td>-0.460720</td>\n",
       "      <td>-1.334258</td>\n",
       "      <td>-149.156647</td>\n",
       "    </tr>\n",
       "    <tr>\n",
       "      <th>559</th>\n",
       "      <td>-0.437820</td>\n",
       "      <td>-1.147469</td>\n",
       "      <td>-1.079932</td>\n",
       "      <td>-0.663478</td>\n",
       "      <td>1.126636</td>\n",
       "      <td>23.312260</td>\n",
       "    </tr>\n",
       "    <tr>\n",
       "      <th>791</th>\n",
       "      <td>0.434789</td>\n",
       "      <td>0.649830</td>\n",
       "      <td>0.140496</td>\n",
       "      <td>-0.818504</td>\n",
       "      <td>0.818839</td>\n",
       "      <td>51.471771</td>\n",
       "    </tr>\n",
       "    <tr>\n",
       "      <th>918</th>\n",
       "      <td>0.676409</td>\n",
       "      <td>-0.785315</td>\n",
       "      <td>-0.217580</td>\n",
       "      <td>-1.586424</td>\n",
       "      <td>0.198087</td>\n",
       "      <td>-12.790692</td>\n",
       "    </tr>\n",
       "    <tr>\n",
       "      <th>224</th>\n",
       "      <td>0.346494</td>\n",
       "      <td>1.145262</td>\n",
       "      <td>-0.025799</td>\n",
       "      <td>-0.220076</td>\n",
       "      <td>1.308669</td>\n",
       "      <td>83.604732</td>\n",
       "    </tr>\n",
       "    <tr>\n",
       "      <th>759</th>\n",
       "      <td>-0.421328</td>\n",
       "      <td>0.768771</td>\n",
       "      <td>-1.980566</td>\n",
       "      <td>-0.948933</td>\n",
       "      <td>0.131912</td>\n",
       "      <td>-83.006362</td>\n",
       "    </tr>\n",
       "    <tr>\n",
       "      <th>952</th>\n",
       "      <td>-1.768538</td>\n",
       "      <td>0.356293</td>\n",
       "      <td>0.766663</td>\n",
       "      <td>-0.598654</td>\n",
       "      <td>-1.115897</td>\n",
       "      <td>-49.029796</td>\n",
       "    </tr>\n",
       "    <tr>\n",
       "      <th>266</th>\n",
       "      <td>-0.197787</td>\n",
       "      <td>0.898241</td>\n",
       "      <td>-0.173608</td>\n",
       "      <td>0.677246</td>\n",
       "      <td>-0.031911</td>\n",
       "      <td>-2.019387</td>\n",
       "    </tr>\n",
       "  </tbody>\n",
       "</table>\n",
       "</div>"
      ],
      "text/plain": [
       "           x1        x2        x3        x4        x5           y\n",
       "660  0.617661  0.463873  0.891968 -0.438356 -0.743152  -17.361679\n",
       "228  0.758038 -1.343193 -0.630226 -0.368415 -0.368764  -54.439024\n",
       "733 -0.159573  0.693773 -1.346718 -0.460720 -1.334258 -149.156647\n",
       "559 -0.437820 -1.147469 -1.079932 -0.663478  1.126636   23.312260\n",
       "791  0.434789  0.649830  0.140496 -0.818504  0.818839   51.471771\n",
       "918  0.676409 -0.785315 -0.217580 -1.586424  0.198087  -12.790692\n",
       "224  0.346494  1.145262 -0.025799 -0.220076  1.308669   83.604732\n",
       "759 -0.421328  0.768771 -1.980566 -0.948933  0.131912  -83.006362\n",
       "952 -1.768538  0.356293  0.766663 -0.598654 -1.115897  -49.029796\n",
       "266 -0.197787  0.898241 -0.173608  0.677246 -0.031911   -2.019387"
      ]
     },
     "execution_count": 9,
     "metadata": {},
     "output_type": "execute_result"
    }
   ],
   "source": [
    "df.sample(10)"
   ]
  },
  {
   "cell_type": "code",
   "execution_count": 18,
   "metadata": {},
   "outputs": [
    {
     "data": {
      "text/plain": [
       "x1    False\n",
       "x2    False\n",
       "x3    False\n",
       "x4    False\n",
       "x5    False\n",
       "y     False\n",
       "dtype: bool"
      ]
     },
     "execution_count": 18,
     "metadata": {},
     "output_type": "execute_result"
    }
   ],
   "source": [
    "df.isnull().any()"
   ]
  },
  {
   "cell_type": "code",
   "execution_count": 19,
   "metadata": {},
   "outputs": [
    {
     "data": {
      "text/plain": [
       "x1    0\n",
       "x2    0\n",
       "x3    0\n",
       "x4    0\n",
       "x5    0\n",
       "y     0\n",
       "dtype: int64"
      ]
     },
     "execution_count": 19,
     "metadata": {},
     "output_type": "execute_result"
    }
   ],
   "source": [
    "df.isnull().sum()"
   ]
  }
 ],
 "metadata": {
  "kernelspec": {
   "display_name": "base",
   "language": "python",
   "name": "python3"
  },
  "language_info": {
   "codemirror_mode": {
    "name": "ipython",
    "version": 3
   },
   "file_extension": ".py",
   "mimetype": "text/x-python",
   "name": "python",
   "nbconvert_exporter": "python",
   "pygments_lexer": "ipython3",
   "version": "3.11.4"
  },
  "orig_nbformat": 4
 },
 "nbformat": 4,
 "nbformat_minor": 2
}
